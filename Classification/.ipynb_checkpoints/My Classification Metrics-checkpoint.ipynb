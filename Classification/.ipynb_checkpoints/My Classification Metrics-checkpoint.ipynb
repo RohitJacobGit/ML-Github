{
 "cells": [
  {
   "cell_type": "markdown",
   "metadata": {},
   "source": [
    "### Import libraries"
   ]
  },
  {
   "cell_type": "code",
   "execution_count": 29,
   "metadata": {},
   "outputs": [],
   "source": [
    "import pandas as pd\n",
    "import numpy as np\n",
    "import matplotlib.pyplot as plt\n",
    "from sklearn.model_selection import train_test_split\n",
    "from sklearn.feature_extraction.text import CountVectorizer\n",
    "from sklearn.metrics import accuracy_score, precision_score, recall_score, f1_score\n",
    "from sklearn.naive_bayes import MultinomialNB\n",
    "from sklearn.tree import DecisionTreeClassifier\n",
    "from sklearn.ensemble import AdaBoostClassifier, BaggingClassifier, RandomForestClassifier\n",
    "from sklearn.svm import SVC\n",
    "import tests as t\n",
    "%matplotlib inline"
   ]
  },
  {
   "cell_type": "markdown",
   "metadata": {},
   "source": [
    "### Wrangling"
   ]
  },
  {
   "cell_type": "code",
   "execution_count": 22,
   "metadata": {},
   "outputs": [],
   "source": [
    "# Import file\n",
    "df = pd.read_csv('../Data Files/SMSSpamCollection',sep='\\t',header=None)\n",
    "\n",
    "#Rename the columns\n",
    "df.rename(columns={0:'label',1:'sms_message'},inplace=True)\n",
    "\n",
    "def convert(x):\n",
    "    '''\n",
    "    If email is spam, return the value 1\n",
    "    If email is ham, return the value 0\n",
    "    '''\n",
    "    if x=='ham':\n",
    "        return 0\n",
    "    else:\n",
    "        return 1\n",
    "\n",
    "# Map convert() to each item in label column\n",
    "df['label'] = df['label'].map(convert)\n",
    "\n",
    "# Split our dataset into training and testing data\n",
    "X_train, X_test, y_train, y_test = train_test_split(df['sms_message'], \n",
    "                                                    df['label'], \n",
    "                                                    random_state=1)\n",
    "\n",
    "# Instantiate the CountVectorizer method\n",
    "count_vector = CountVectorizer()\n",
    "\n",
    "# Fit the training data and then return the matrix\n",
    "X_train = count_vector.fit_transform(X_train)\n",
    "\n",
    "# Transform testing data and return the matrix. Note we are not fitting the testing data \n",
    "# into the CountVectorizer()\n",
    "X_test = count_vector.transform(X_test)"
   ]
  },
  {
   "cell_type": "markdown",
   "metadata": {},
   "source": [
    "### Instantiating the models"
   ]
  },
  {
   "cell_type": "code",
   "execution_count": 24,
   "metadata": {},
   "outputs": [],
   "source": [
    "#model = AdaBoostClassifier(base_estimator = DecisionTreeClassifier(max_depth=2), n_estimators = 4)\n",
    "\n",
    "# Instantiate a BaggingClassifier with:\n",
    "# 200 weak learners (n_estimators) and everything else as default values\n",
    "bagging_model = BaggingClassifier(n_estimators=200)\n",
    "\n",
    "\n",
    "# Instantiate a RandomForestClassifier with:\n",
    "# 200 weak learners (n_estimators) and everything else as default values\n",
    "rfr_model = RandomForestClassifier(n_estimators=200)\n",
    "\n",
    "# Instantiate an a AdaBoostClassifier with:\n",
    "# With 300 weak learners (n_estimators) and a learning_rate of 0.2\n",
    "ada_model = AdaBoostClassifier(n_estimators=300,learning_rate=0.2)\n",
    "\n",
    "# Instantiate SVM Classifier\n",
    "svm_model = SVC(gamma='auto',C=10)\n",
    "\n",
    "# Instantiate Naive Bayes\n",
    "naive_bayes = MultinomialNB()"
   ]
  },
  {
   "cell_type": "markdown",
   "metadata": {},
   "source": [
    "### Fitting the models"
   ]
  },
  {
   "cell_type": "code",
   "execution_count": 25,
   "metadata": {},
   "outputs": [
    {
     "data": {
      "text/plain": [
       "MultinomialNB(alpha=1.0, class_prior=None, fit_prior=True)"
      ]
     },
     "execution_count": 25,
     "metadata": {},
     "output_type": "execute_result"
    }
   ],
   "source": [
    "# Fit your BaggingClassifier to the training data\n",
    "bagging_model.fit(X_train,y_train)\n",
    "\n",
    "# Fit your RandomForestClassifier to the training data\n",
    "rfr_model.fit(X_train,y_train)\n",
    "\n",
    "# Fit your AdaBoostClassifier to the training data\n",
    "ada_model.fit(X_train,y_train)\n",
    "\n",
    "# SVM\n",
    "svm_model.fit(X_train,y_train)\n",
    "\n",
    "# Naive Bayes\n",
    "naive_bayes.fit(X_train, y_train)"
   ]
  },
  {
   "cell_type": "code",
   "execution_count": 30,
   "metadata": {},
   "outputs": [
    {
     "ename": "AttributeError",
     "evalue": "module 'test' has no attribute 'test_one'",
     "output_type": "error",
     "traceback": [
      "\u001b[0;31m---------------------------------------------------------------------------\u001b[0m",
      "\u001b[0;31mAttributeError\u001b[0m                            Traceback (most recent call last)",
      "\u001b[0;32m<ipython-input-30-5df1d0e45d86>\u001b[0m in \u001b[0;36m<module>\u001b[0;34m\u001b[0m\n\u001b[1;32m     15\u001b[0m \u001b[0;34m\u001b[0m\u001b[0m\n\u001b[1;32m     16\u001b[0m \u001b[0;31m# Checks your solution - don't change this\u001b[0m\u001b[0;34m\u001b[0m\u001b[0;34m\u001b[0m\u001b[0;34m\u001b[0m\u001b[0m\n\u001b[0;32m---> 17\u001b[0;31m \u001b[0mt\u001b[0m\u001b[0;34m.\u001b[0m\u001b[0mtest_one\u001b[0m\u001b[0;34m(\u001b[0m\u001b[0mmodels_fit_on\u001b[0m\u001b[0;34m)\u001b[0m\u001b[0;34m\u001b[0m\u001b[0;34m\u001b[0m\u001b[0m\n\u001b[0m",
      "\u001b[0;31mAttributeError\u001b[0m: module 'test' has no attribute 'test_one'"
     ]
    }
   ],
   "source": [
    "# The models you fit above were fit on which data?\n",
    "\n",
    "a = 'X_train'\n",
    "b = 'X_test'\n",
    "c = 'y_train'\n",
    "d = 'y_test'\n",
    "e = 'training_data'\n",
    "f = 'testing_data'\n",
    "\n",
    "# Change models_fit_on to only contain the correct string names\n",
    "# of values that you oassed to the above models\n",
    "\n",
    "# models_fit_on = {a, b, c, d, e, f} # update this to only contain correct letters\n",
    "models_fit_on = {a, c}\n",
    "\n",
    "# Checks your solution - don't change this\n",
    "t.test_one(models_fit_on)"
   ]
  },
  {
   "cell_type": "markdown",
   "metadata": {},
   "source": [
    "### Make Predictions"
   ]
  },
  {
   "cell_type": "code",
   "execution_count": 26,
   "metadata": {},
   "outputs": [],
   "source": [
    "# Predict using BaggingClassifier on the test data\n",
    "bagging_predictions = bagging_model.predict(X_test)\n",
    "\n",
    "# Predict using RandomForestClassifier on the test data\n",
    "rfr_predictions = rfr_model.predict(X_test)\n",
    "\n",
    "# Predict using AdaBoostClassifier on the test data\n",
    "ada_predictions = ada_model.predict(X_test)\n",
    "\n",
    "# Naive Bayes\n",
    "naive_predictions = naive_bayes.predict(X_test)\n",
    "\n",
    "# Predict using SVM\n",
    "svm_predictions = svm_model.predict(X_test)"
   ]
  },
  {
   "cell_type": "code",
   "execution_count": 27,
   "metadata": {},
   "outputs": [
    {
     "name": "stdout",
     "output_type": "stream",
     "text": [
      "Accuracy score for Bagging Classifier : 0.9741564967695621\n",
      "Precision score Bagging Classifier : 0.9116022099447514\n",
      "Recall score Bagging Classifier : 0.8918918918918919\n",
      "F1 score Bagging Classifier : 0.9016393442622951\n",
      "\n",
      "\n",
      "\n",
      "Accuracy score for Random Forest Classifier : 0.9806173725771715\n",
      "Precision score Random Forest Classifier : 1.0\n",
      "Recall score Random Forest Classifier : 0.8540540540540541\n",
      "F1 score Random Forest Classifier : 0.9212827988338192\n",
      "\n",
      "\n",
      "\n",
      "Accuracy score for Adaboost Classifier : 0.9770279971284996\n",
      "Precision score Adaboost Classifier : 0.9693251533742331\n",
      "Recall score Adaboost Classifier : 0.8540540540540541\n",
      "F1 score Adaboost Classifier : 0.9080459770114943\n",
      "\n",
      "\n",
      "\n",
      "Accuracy score for Naive Bayes Classifier : 0.9885139985642498\n",
      "Precision score Naive Bayes Classifier : 0.9720670391061452\n",
      "Recall score Naive Bayes Classifier : 0.9405405405405406\n",
      "F1 score Naive Bayes Classifier : 0.9560439560439562\n",
      "\n",
      "\n",
      "\n",
      "Accuracy score for SVM Classifier : 0.9468772433596554\n",
      "Precision score SVM Classifier : 0.9911504424778761\n",
      "Recall score SVM Classifier : 0.6054054054054054\n",
      "F1 score SVM Classifier : 0.7516778523489933\n",
      "\n",
      "\n",
      "\n"
     ]
    }
   ],
   "source": [
    "def print_metrics(y_true, preds, model_name=None):\n",
    "    '''\n",
    "    INPUT:\n",
    "    y_true - the y values that are actually true in the dataset (NumPy array or pandas series)\n",
    "    preds - the predictions for those values from some model (NumPy array or pandas series)\n",
    "    model_name - (str - optional) a name associated with the model if you would like to add it to the print statements \n",
    "    \n",
    "    OUTPUT:\n",
    "    None - prints the accuracy, precision, recall, and F1 score\n",
    "    '''\n",
    "    if model_name == None:\n",
    "        print('Accuracy score: ', format(accuracy_score(y_true, preds)))\n",
    "        print('Precision score: ', format(precision_score(y_true, preds)))\n",
    "        print('Recall score: ', format(recall_score(y_true, preds)))\n",
    "        print('F1 score: ', format(f1_score(y_true, preds)))\n",
    "        print('\\n\\n')\n",
    "    \n",
    "    else:\n",
    "        print('Accuracy score for ' + model_name + ' :' , format(accuracy_score(y_true, preds)))\n",
    "        print('Precision score ' + model_name + ' :', format(precision_score(y_true, preds)))\n",
    "        print('Recall score ' + model_name + ' :', format(recall_score(y_true, preds)))\n",
    "        print('F1 score ' + model_name + ' :', format(f1_score(y_true, preds)))\n",
    "        print('\\n\\n')\n",
    "\n",
    "# Print Bagging scores\n",
    "print_metrics(y_test,bagging_predictions,'Bagging Classifier')\n",
    "\n",
    "# Print Random Forest scores\n",
    "print_metrics(y_test,rfr_predictions,'Random Forest Classifier')\n",
    "\n",
    "# Print AdaBoost scores\n",
    "print_metrics(y_test,ada_predictions,'Adaboost Classifier')\n",
    "\n",
    "# Naive Bayes Classifier scores\n",
    "print_metrics(y_test,naive_predictions,'Naive Bayes Classifier')\n",
    "\n",
    "# SVM Classifier scores\n",
    "print_metrics(y_test,svm_predictions,'SVM Classifier')"
   ]
  },
  {
   "cell_type": "markdown",
   "metadata": {},
   "source": [
    "- 'We have imbalanced classes, which metric do we definitely not want to use?': accuracy\n",
    "- 'We really want to make sure the positive cases are all caught even if that means we -      identify some negatives as positives': recall (False -ve)    \n",
    "- 'When we identify something as positive, we want to be sure it is truly positive':          Precision\n",
    "- 'We care equally about identifying positive and negative cases': f1-score "
   ]
  },
  {
   "cell_type": "markdown",
   "metadata": {},
   "source": [
    "##### use the answers you found to the previous questiona, then match the model that did best for each metric\n",
    "a = \"naive-bayes\"\n",
    "b = \"bagging\"\n",
    "c = \"random-forest\"\n",
    "d = 'ada-boost'\n",
    "e = \"svm\"\n",
    "\n",
    "- 'We have imbalanced classes, which metric do we definitely not want to use?': a,\n",
    "- 'We really want to make sure the positive cases are all caught even if that means we identify some negatives as      positives': a,    \n",
    "- 'When we identify something as positive, we want to be sure it is truly positive': c, \n",
    "- 'We care equally about identifying positive and negative cases': a  \n"
   ]
  },
  {
   "cell_type": "code",
   "execution_count": null,
   "metadata": {},
   "outputs": [],
   "source": []
  }
 ],
 "metadata": {
  "kernelspec": {
   "display_name": "Python 3",
   "language": "python",
   "name": "python3"
  },
  "language_info": {
   "codemirror_mode": {
    "name": "ipython",
    "version": 3
   },
   "file_extension": ".py",
   "mimetype": "text/x-python",
   "name": "python",
   "nbconvert_exporter": "python",
   "pygments_lexer": "ipython3",
   "version": "3.7.4"
  }
 },
 "nbformat": 4,
 "nbformat_minor": 2
}
