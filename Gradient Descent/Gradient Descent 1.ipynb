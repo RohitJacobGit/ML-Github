{
 "cells": [
  {
   "cell_type": "code",
   "execution_count": 1,
   "metadata": {},
   "outputs": [],
   "source": [
    "# plot the results\n",
    "import matplotlib.pyplot as plt\n",
    "import numpy as np\n",
    "import pandas as pd\n",
    "# Setting a random seed, feel free to change it and see different solutions.\n",
    "np.random.seed(42)"
   ]
  },
  {
   "cell_type": "code",
   "execution_count": 2,
   "metadata": {},
   "outputs": [],
   "source": [
    "data = np.loadtxt('../Data Files/data.csv', delimiter = ',')\n",
    "X = data[:,:-1]\n",
    "y = data[:,-1]"
   ]
  },
  {
   "cell_type": "code",
   "execution_count": 3,
   "metadata": {},
   "outputs": [
    {
     "data": {
      "text/plain": [
       "array([0.])"
      ]
     },
     "execution_count": 3,
     "metadata": {},
     "output_type": "execute_result"
    }
   ],
   "source": [
    "np.zeros(X.shape[1])"
   ]
  },
  {
   "cell_type": "code",
   "execution_count": 4,
   "metadata": {
    "collapsed": true
   },
   "outputs": [
    {
     "data": {
      "text/plain": [
       "array([[-7.24070e-01],\n",
       "       [-2.40724e+00],\n",
       "       [ 2.64837e+00],\n",
       "       [ 3.60920e-01],\n",
       "       [ 6.73120e-01],\n",
       "       [-4.54600e-01],\n",
       "       [ 2.20168e+00],\n",
       "       [ 1.15605e+00],\n",
       "       [ 5.06940e-01],\n",
       "       [-8.59520e-01],\n",
       "       [-5.99700e-01],\n",
       "       [ 1.46804e+00],\n",
       "       [-1.05659e+00],\n",
       "       [ 1.29177e+00],\n",
       "       [-7.45650e-01],\n",
       "       [ 1.50330e-01],\n",
       "       [-1.49627e+00],\n",
       "       [-7.20710e-01],\n",
       "       [ 3.29240e-01],\n",
       "       [-2.80530e-01],\n",
       "       [-1.36115e+00],\n",
       "       [ 7.46780e-01],\n",
       "       [ 1.06210e-01],\n",
       "       [ 3.25600e-02],\n",
       "       [-9.82900e-01],\n",
       "       [-1.15661e+00],\n",
       "       [ 9.02400e-02],\n",
       "       [-1.03816e+00],\n",
       "       [-6.04000e-03],\n",
       "       [ 1.62780e-01],\n",
       "       [-6.98690e-01],\n",
       "       [ 1.03857e+00],\n",
       "       [-1.17830e-01],\n",
       "       [-9.54090e-01],\n",
       "       [-8.18390e-01],\n",
       "       [-1.28802e+00],\n",
       "       [ 6.28220e-01],\n",
       "       [-2.29674e+00],\n",
       "       [-8.56010e-01],\n",
       "       [-1.75223e+00],\n",
       "       [-1.19662e+00],\n",
       "       [ 9.77810e-01],\n",
       "       [-1.17110e+00],\n",
       "       [ 1.58350e-01],\n",
       "       [-5.89180e-01],\n",
       "       [-1.79678e+00],\n",
       "       [-9.57270e-01],\n",
       "       [ 6.45560e-01],\n",
       "       [ 2.46250e-01],\n",
       "       [ 4.59170e-01],\n",
       "       [ 1.21036e+00],\n",
       "       [-6.01160e-01],\n",
       "       [ 2.68510e-01],\n",
       "       [ 4.95940e-01],\n",
       "       [-2.67877e+00],\n",
       "       [ 4.94020e-01],\n",
       "       [ 1.18643e+00],\n",
       "       [-1.77410e-01],\n",
       "       [ 5.79380e-01],\n",
       "       [-2.14926e+00],\n",
       "       [ 2.27700e+00],\n",
       "       [-1.05695e+00],\n",
       "       [ 1.68288e+00],\n",
       "       [-1.53513e+00],\n",
       "       [ 9.90000e-04],\n",
       "       [ 4.55200e-01],\n",
       "       [-3.78550e-01],\n",
       "       [ 1.35638e+00],\n",
       "       [ 1.76300e-02],\n",
       "       [ 2.21725e+00],\n",
       "       [-4.44420e-01],\n",
       "       [ 8.95830e-01],\n",
       "       [ 1.30499e+00],\n",
       "       [ 1.08830e-01],\n",
       "       [ 1.79466e+00],\n",
       "       [-7.33000e-03],\n",
       "       [ 7.98620e-01],\n",
       "       [-1.23530e-01],\n",
       "       [-1.34999e+00],\n",
       "       [-6.78250e-01],\n",
       "       [-1.79010e-01],\n",
       "       [ 1.25770e-01],\n",
       "       [ 1.11943e+00],\n",
       "       [-3.02296e+00],\n",
       "       [ 6.49650e-01],\n",
       "       [ 1.05994e+00],\n",
       "       [ 5.33600e-01],\n",
       "       [-7.35910e-01],\n",
       "       [-9.56900e-02],\n",
       "       [ 1.04694e+00],\n",
       "       [ 4.65110e-01],\n",
       "       [-7.54630e-01],\n",
       "       [-9.41590e-01],\n",
       "       [-9.31400e-02],\n",
       "       [-9.86410e-01],\n",
       "       [-9.21590e-01],\n",
       "       [ 7.69530e-01],\n",
       "       [ 3.28300e-02],\n",
       "       [-1.07619e+00],\n",
       "       [ 2.01740e-01]])"
      ]
     },
     "execution_count": 4,
     "metadata": {},
     "output_type": "execute_result"
    }
   ],
   "source": [
    "X"
   ]
  },
  {
   "cell_type": "code",
   "execution_count": 2,
   "metadata": {},
   "outputs": [],
   "source": [
    "# TODO: Fill in code in the function below to implement a gradient descent\n",
    "# step for linear regression, following a squared error rule. See the docstring\n",
    "# for parameters and returned variables.\n",
    "def MSEStep(X, y, W, b, learn_rate = 0.005):\n",
    "    \"\"\"\n",
    "    This function implements the gradient descent step for squared error as a\n",
    "    performance metric.\n",
    "    \n",
    "    Parameters\n",
    "    X : array of predictor features\n",
    "    y : array of outcome values\n",
    "    W : predictor feature coefficients\n",
    "    b : regression function intercept\n",
    "    learn_rate : learning rate\n",
    "\n",
    "    Returns\n",
    "    W_new : predictor feature coefficients following gradient descent step\n",
    "    b_new : intercept following gradient descent step\n",
    "    \"\"\"\n",
    "    \n",
    "    # Fill in code\n",
    "    y_pred = np.matmul(X,W) + b\n",
    "    error = y - y_pred\n",
    "    \n",
    "    W_new = W + learn_rate * np.matmul(error,X)\n",
    "    b_new = b + learn_rate * error.sum()\n",
    "    \n",
    "    return W_new, b_new"
   ]
  },
  {
   "cell_type": "code",
   "execution_count": 3,
   "metadata": {},
   "outputs": [],
   "source": [
    "# The gradient descent step will be performed multiple times on\n",
    "# the provided dataset, and the returned list of regression coefficients\n",
    "# will be plotted.\n",
    "def miniBatchGD(X, y, batch_size = 20, learn_rate = 0.005, num_iter = 25):\n",
    "    \"\"\"\n",
    "    This function performs mini-batch gradient descent on a given dataset.\n",
    "\n",
    "    Parameters\n",
    "    X : array of predictor features\n",
    "    y : array of outcome values\n",
    "    batch_size : how many data points will be sampled for each iteration\n",
    "    learn_rate : learning rate\n",
    "    num_iter : number of batches used\n",
    "\n",
    "    Returns\n",
    "    regression_coef : array of slopes and intercepts generated by gradient\n",
    "      descent procedure\n",
    "    \"\"\"\n",
    "    number_of_obs = X.shape[0] # 100\n",
    "    W = np.zeros(X.shape[1]) # initialize array of coefficients or vector of weights/slopes or W = [0]\n",
    "    # W = array([0.]) such that w1 = [1.], w2 = [5.], ......\n",
    "    b = 0 # intercept\n",
    "    \n",
    "    # run iterations\n",
    "    regression_coef = [np.hstack((W,b))] # list of arrays\n",
    "    for _ in range(num_iter): # run 25 times ~ creates 25 batches(20 points each) ~ create 25 regression lines\n",
    "        batch = np.random.choice(range(number_of_obs), batch_size) # picks 20 random points ~ each batch\n",
    "        X_batch = X[batch,:]\n",
    "        y_batch = y[batch]\n",
    "        W, b = MSEStep(X_batch, y_batch, W, b, learn_rate)\n",
    "        regression_coef.append(np.hstack((W,b)))\n",
    "    \n",
    "    return regression_coef"
   ]
  },
  {
   "cell_type": "code",
   "execution_count": 52,
   "metadata": {},
   "outputs": [
    {
     "name": "stdout",
     "output_type": "stream",
     "text": [
      "[18 60 53]\n",
      "[[-0.00733]\n",
      " [-1.79678]\n",
      " [-0.5997 ]] (100, 1)\n",
      "[1.87546 1.35803 1.63259] (100,)\n"
     ]
    }
   ],
   "source": [
    "print(np.random.choice(range(100), 3))\n",
    "print(X[[75,45,10],:], X.shape)\n",
    "print(y[[75,45,10]], y.shape)"
   ]
  },
  {
   "cell_type": "code",
   "execution_count": 29,
   "metadata": {},
   "outputs": [
    {
     "data": {
      "text/plain": [
       "range(0, 100)"
      ]
     },
     "execution_count": 29,
     "metadata": {},
     "output_type": "execute_result"
    }
   ],
   "source": [
    "range(100)"
   ]
  },
  {
   "cell_type": "code",
   "execution_count": null,
   "metadata": {},
   "outputs": [],
   "source": [
    "m = np.array((1,2,3))\n",
    "n = np.array((2,3,4))\n",
    "np.hstack((m,n))"
   ]
  },
  {
   "cell_type": "code",
   "execution_count": 38,
   "metadata": {
    "collapsed": true
   },
   "outputs": [
    {
     "data": {
      "text/plain": [
       "array([[-2.40724e+00],\n",
       "       [ 2.64837e+00],\n",
       "       [ 3.60920e-01],\n",
       "       [ 6.73120e-01],\n",
       "       [-4.54600e-01],\n",
       "       [ 2.20168e+00],\n",
       "       [ 1.15605e+00],\n",
       "       [ 5.06940e-01],\n",
       "       [-8.59520e-01],\n",
       "       [-5.99700e-01],\n",
       "       [ 1.46804e+00],\n",
       "       [-1.05659e+00],\n",
       "       [ 1.29177e+00],\n",
       "       [-7.45650e-01],\n",
       "       [ 1.50330e-01],\n",
       "       [-1.49627e+00],\n",
       "       [-7.20710e-01],\n",
       "       [ 3.29240e-01],\n",
       "       [-2.80530e-01],\n",
       "       [-1.36115e+00],\n",
       "       [ 7.46780e-01],\n",
       "       [ 1.06210e-01],\n",
       "       [ 3.25600e-02],\n",
       "       [-9.82900e-01],\n",
       "       [-1.15661e+00],\n",
       "       [ 9.02400e-02],\n",
       "       [-1.03816e+00],\n",
       "       [-6.04000e-03],\n",
       "       [ 1.62780e-01],\n",
       "       [-6.98690e-01],\n",
       "       [ 1.03857e+00],\n",
       "       [-1.17830e-01],\n",
       "       [-9.54090e-01],\n",
       "       [-8.18390e-01],\n",
       "       [-1.28802e+00],\n",
       "       [ 6.28220e-01],\n",
       "       [-2.29674e+00],\n",
       "       [-8.56010e-01],\n",
       "       [-1.75223e+00],\n",
       "       [-1.19662e+00],\n",
       "       [ 9.77810e-01],\n",
       "       [-1.17110e+00],\n",
       "       [ 1.58350e-01],\n",
       "       [-5.89180e-01],\n",
       "       [-1.79678e+00],\n",
       "       [-9.57270e-01],\n",
       "       [ 6.45560e-01],\n",
       "       [ 2.46250e-01],\n",
       "       [ 4.59170e-01],\n",
       "       [ 1.21036e+00],\n",
       "       [-6.01160e-01],\n",
       "       [ 2.68510e-01],\n",
       "       [ 4.95940e-01],\n",
       "       [-2.67877e+00],\n",
       "       [ 4.94020e-01],\n",
       "       [ 1.18643e+00],\n",
       "       [-1.77410e-01],\n",
       "       [ 5.79380e-01],\n",
       "       [-2.14926e+00],\n",
       "       [ 2.27700e+00],\n",
       "       [-1.05695e+00],\n",
       "       [ 1.68288e+00],\n",
       "       [-1.53513e+00],\n",
       "       [ 9.90000e-04],\n",
       "       [ 4.55200e-01],\n",
       "       [-3.78550e-01],\n",
       "       [ 1.35638e+00],\n",
       "       [ 1.76300e-02],\n",
       "       [ 2.21725e+00],\n",
       "       [-4.44420e-01],\n",
       "       [ 8.95830e-01],\n",
       "       [ 1.30499e+00],\n",
       "       [ 1.08830e-01],\n",
       "       [ 1.79466e+00],\n",
       "       [-7.33000e-03],\n",
       "       [ 7.98620e-01],\n",
       "       [-1.23530e-01],\n",
       "       [-1.34999e+00],\n",
       "       [-6.78250e-01],\n",
       "       [-1.79010e-01],\n",
       "       [ 1.25770e-01],\n",
       "       [ 1.11943e+00],\n",
       "       [-3.02296e+00],\n",
       "       [ 6.49650e-01],\n",
       "       [ 1.05994e+00],\n",
       "       [ 5.33600e-01],\n",
       "       [-7.35910e-01],\n",
       "       [-9.56900e-02],\n",
       "       [ 1.04694e+00],\n",
       "       [ 4.65110e-01],\n",
       "       [-7.54630e-01],\n",
       "       [-9.41590e-01],\n",
       "       [-9.31400e-02],\n",
       "       [-9.86410e-01],\n",
       "       [-9.21590e-01],\n",
       "       [ 7.69530e-01],\n",
       "       [ 3.28300e-02],\n",
       "       [-1.07619e+00],\n",
       "       [ 2.01740e-01]])"
      ]
     },
     "execution_count": 38,
     "metadata": {},
     "output_type": "execute_result"
    }
   ],
   "source": [
    "X[1:]"
   ]
  },
  {
   "cell_type": "code",
   "execution_count": 24,
   "metadata": {},
   "outputs": [
    {
     "data": {
      "text/plain": [
       "array([0.])"
      ]
     },
     "execution_count": 24,
     "metadata": {},
     "output_type": "execute_result"
    }
   ],
   "source": [
    "np.zeros(X.shape[1])"
   ]
  },
  {
   "cell_type": "code",
   "execution_count": 28,
   "metadata": {},
   "outputs": [
    {
     "data": {
      "text/plain": [
       "array([2, 0])"
      ]
     },
     "execution_count": 28,
     "metadata": {},
     "output_type": "execute_result"
    }
   ],
   "source": [
    "np.hstack((2,0))"
   ]
  },
  {
   "cell_type": "code",
   "execution_count": 19,
   "metadata": {
    "collapsed": true
   },
   "outputs": [
    {
     "data": {
      "text/plain": [
       "array([ 2.23863e+00, -1.56000e-03,  3.01665e+00,  2.31019e+00,\n",
       "        2.05950e+00,  1.24736e+00,  2.82497e+00,  2.21802e+00,\n",
       "        1.43644e+00,  1.74980e+00,  1.63259e+00,  2.43461e+00,\n",
       "        1.02226e+00,  3.11769e+00,  8.11940e-01,  2.81910e+00,\n",
       "        5.31050e-01,  1.64845e+00,  1.91416e+00,  2.11376e+00,\n",
       "        1.70969e+00,  2.92253e+00,  3.29827e+00,  1.58565e+00,\n",
       "        2.30455e+00,  1.79169e+00,  1.54723e+00,  1.06893e+00,\n",
       "        1.78802e+00,  1.84746e+00,  1.58732e+00,  1.94799e+00,\n",
       "        3.09324e+00,  1.86155e+00,  1.88817e+00,  1.39474e+00,\n",
       "        1.71526e+00,  1.75695e+00,  1.12981e+00,  1.67000e+00,\n",
       "        6.67110e-01,  3.11987e+00,  5.69240e-01,  2.28231e+00,\n",
       "        1.23798e+00,  1.35803e+00,  1.75579e+00,  1.91470e+00,\n",
       "        2.33029e+00,  3.25263e+00,  2.07602e+00,  1.54254e+00,\n",
       "        2.79202e+00,  1.96178e+00,  9.58980e-01,  1.96690e+00,\n",
       "        3.06144e+00,  1.85984e+00,  1.82967e+00,  6.22850e-01,\n",
       "        3.63838e+00,  1.11807e+00,  2.91735e+00,  1.99668e+00,\n",
       "        1.76149e+00,  2.31938e+00,  9.01720e-01,  3.49432e+00,\n",
       "        1.87838e+00,  2.61171e+00,  2.06623e+00,  3.04041e+00,\n",
       "        2.42824e+00,  6.31900e-01,  2.95265e+00,  1.87546e+00,\n",
       "        3.44953e+00,  1.53740e+00,  1.59958e+00,  1.57832e+00,\n",
       "        1.73312e+00,  2.00244e+00,  2.08990e+00,  1.09255e+00,\n",
       "        1.28183e+00,  2.32358e+00,  1.75136e+00,  1.43076e+00,\n",
       "        2.81376e+00,  2.56597e+00,  2.36401e+00,  2.30161e+00,\n",
       "        1.94500e+00,  1.87619e+00,  1.46602e+00,  1.21538e+00,\n",
       "        2.39377e+00,  1.55730e+00,  7.08740e-01,  1.76894e+00])"
      ]
     },
     "execution_count": 19,
     "metadata": {},
     "output_type": "execute_result"
    }
   ],
   "source": [
    "X.shape # (100,1)\n",
    "y.shape # (100,)\n",
    "X\n",
    "y"
   ]
  },
  {
   "cell_type": "code",
   "execution_count": 20,
   "metadata": {
    "collapsed": true
   },
   "outputs": [
    {
     "data": {
      "text/plain": [
       "[array([0., 0.]),\n",
       " array([0.12341158, 0.2049234 ]),\n",
       " array([0.07713629, 0.37119546]),\n",
       " array([0.13991386, 0.52422169]),\n",
       " array([0.14017334, 0.66281191]),\n",
       " array([0.15514756, 0.77699134]),\n",
       " array([0.15039492, 0.88136108]),\n",
       " array([0.19857266, 0.99942708]),\n",
       " array([0.26441435, 1.1012103 ]),\n",
       " array([0.284643 , 1.1749923]),\n",
       " array([0.31173667, 1.2578259 ]),\n",
       " array([0.33257141, 1.29953887]),\n",
       " array([0.37719351, 1.35343161]),\n",
       " array([0.38658478, 1.41235015]),\n",
       " array([0.37639877, 1.48358489]),\n",
       " array([0.40449639, 1.51995864]),\n",
       " array([0.38520041, 1.57841031]),\n",
       " array([0.41715857, 1.63043345]),\n",
       " array([0.41430519, 1.66112077]),\n",
       " array([0.39842119, 1.68996465]),\n",
       " array([0.39392107, 1.71004375]),\n",
       " array([0.42072954, 1.72423628]),\n",
       " array([0.42726705, 1.74816547]),\n",
       " array([0.4565849 , 1.77112757]),\n",
       " array([0.45097337, 1.78769497]),\n",
       " array([0.4477919 , 1.82878844])]"
      ]
     },
     "execution_count": 20,
     "metadata": {},
     "output_type": "execute_result"
    }
   ],
   "source": [
    "regression_coef"
   ]
  },
  {
   "cell_type": "code",
   "execution_count": 84,
   "metadata": {},
   "outputs": [
    {
     "data": {
      "image/png": "[encoded data removed]",
      "text/plain": [
       "<Figure size 432x288 with 1 Axes>"
      ]
     },
     "metadata": {
      "needs_background": "light"
     },
     "output_type": "display_data"
    }
   ],
   "source": [
    "if __name__ == \"__main__\":\n",
    "    # perform gradient descent\n",
    "    data = np.loadtxt('../Data Files/data.csv', delimiter = ',')\n",
    "    X = data[:,:-1]\n",
    "    y = data[:,-1]\n",
    "    regression_coef = miniBatchGD(X, y) # List of 25 arrays(with coefficients W and b) returned\n",
    "    #[array([W0,b0]),array([W1,b1]),.....,array([Wn,bn])] \n",
    "    \n",
    "    plt.figure()\n",
    "    X_min = X.min()\n",
    "    X_max = X.max()\n",
    "    counter = len(regression_coef)\n",
    "    for W, b in regression_coef:\n",
    "        counter -= 1\n",
    "        color = [1 - 0.92 ** counter for _ in range(3)]\n",
    "        plt.plot([X_min, X_max],[X_min * W + b, X_max * W + b], color = color)\n",
    "    plt.scatter(X, y, zorder = 3)\n",
    "    plt.show()"
   ]
  },
  {
   "cell_type": "code",
   "execution_count": 54,
   "metadata": {},
   "outputs": [
    {
     "name": "stdout",
     "output_type": "stream",
     "text": [
      "0.07587068630039803 0.34937581312126076\n"
     ]
    },
    {
     "data": {
      "image/png": "[encoded data removed]",
      "text/plain": [
       "<Figure size 432x288 with 1 Axes>"
      ]
     },
     "metadata": {
      "needs_background": "light"
     },
     "output_type": "display_data"
    }
   ],
   "source": [
    "# https://github.com/chasinginfinity/ml-from-scratch/blob/master/02%20Linear%20Regression%20using%20Gradient%20Descent/Linear%20Regression%20using%20Gradient%20Descent.ipynb \n",
    "# https://github.com/chasinginfinity/ml-from-scratch/blob/master/01%20Linear%20Regression%20using%20Least%20Squares/Linear%20Regression%20using%20Least%20Squares.ipynb\n",
    "# https://towardsdatascience.com/linear-regression-using-gradient-descent-97a6c8700931\n",
    "# https://machinelearningmastery.com/gradient-descent-for-machine-learning/\n",
    "\n",
    "import numpy as np\n",
    "import pandas as pd\n",
    "import matplotlib.pyplot as plt\n",
    "\n",
    "# Preprocessing Input data\n",
    "data = pd.read_csv('../Data Files/data.csv',delimiter=',')\n",
    "X = data.iloc[:, 0]\n",
    "Y = data.iloc[:, 1]\n",
    "\n",
    "# Building the model\n",
    "m = 0\n",
    "c = 0\n",
    "\n",
    "L = 0.0001  # The learning Rate\n",
    "epochs = 1000  # The number of iterations to perform gradient descent\n",
    "\n",
    "n = float(len(X)) # Number of elements in X\n",
    "\n",
    "# Performing Gradient Descent \n",
    "for i in range(epochs): \n",
    "    Y_pred = m*X + c  # The current predicted value of Y\n",
    "    D_m = (-2/n) * sum(X * (Y - Y_pred))  # Derivative wrt m\n",
    "    D_c = (-2/n) * sum(Y - Y_pred)  # Derivative wrt c\n",
    "    m = m - L * D_m  # Update m\n",
    "    c = c - L * D_c  # Update c\n",
    "    #print(m,c)\n",
    "    \n",
    "print (m, c)\n",
    "\n",
    "Y_pred = m*X + c\n",
    "\n",
    "plt.scatter(X, Y) \n",
    "plt.plot([min(X), max(X)], [min(Y_pred), max(Y_pred)], color='red')  # regression line\n",
    "plt.show()"
   ]
  }
 ],
 "metadata": {
  "kernelspec": {
   "display_name": "Python 3",
   "language": "python",
   "name": "python3"
  },
  "language_info": {
   "codemirror_mode": {
    "name": "ipython",
    "version": 3
   },
   "file_extension": ".py",
   "mimetype": "text/x-python",
   "name": "python",
   "nbconvert_exporter": "python",
   "pygments_lexer": "ipython3",
   "version": "3.7.4"
  }
 },
 "nbformat": 4,
 "nbformat_minor": 2
}
