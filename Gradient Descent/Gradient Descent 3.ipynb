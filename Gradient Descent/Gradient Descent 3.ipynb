{
 "cells": [
  {
   "cell_type": "code",
   "execution_count": 14,
   "metadata": {},
   "outputs": [
    {
     "name": "stdout",
     "output_type": "stream",
     "text": [
      "Neural Network output:\n",
      "0.6899744811276125\n",
      "Amount of Error:\n",
      "-0.1899744811276125\n",
      "Change in Weights:\n",
      "[-0.02031869 -0.04063738 -0.06095608 -0.08127477]\n",
      "new weights\n",
      "[ 0.47968131 -0.54063738  0.23904392  0.01872523]\n"
     ]
    }
   ],
   "source": [
    "import numpy as np\n",
    "\n",
    "def sigmoid(x):\n",
    "    \"\"\"\n",
    "    Calculate sigmoid\n",
    "    \"\"\"\n",
    "    return 1/(1+np.exp(-x))\n",
    "\n",
    "def sigmoid_prime(x):\n",
    "    \"\"\"\n",
    "    # Derivative of the sigmoid function\n",
    "    \"\"\"\n",
    "    return sigmoid(x) * (1 - sigmoid(x))\n",
    "\n",
    "learnrate = 0.5\n",
    "x = np.array([1, 2, 3, 4])\n",
    "y = np.array(0.5)\n",
    "\n",
    "# Initial weights\n",
    "w = np.array([0.5, -0.5, 0.3, 0.1])\n",
    "\n",
    "### Calculate one gradient descent step for each weight\n",
    "### Note: Some steps have been consolidated, so there are\n",
    "###       fewer variable names than in the above sample code\n",
    "\n",
    "# TODO: Calculate the node's linear combination of inputs and weights\n",
    "\n",
    "# h = ∑ x[i]w[i]\n",
    "h = np.dot(x,w)\n",
    "#x[0]*w[0] + x[1]*w[1] + x[2]*w[2] + x[3]*w[3]\n",
    "\n",
    "# Calculate output of neural network\n",
    "# y_hat = sigma(h)\n",
    "nn_output = sigmoid(h)\n",
    "\n",
    "# Calculate error of neural network\n",
    "# y-y_hat\n",
    "error = y - nn_output\n",
    "\n",
    "# Calculate the error term\n",
    "# E = sigma_prime(h)*(y-y_hat)\n",
    "error_term = sigmoid_prime(h) * error\n",
    "\n",
    "# Calculate change in weights\n",
    "# ∆w = learnrate * E * x[i]\n",
    "del_w = learnrate * error_term * x\n",
    "# or\n",
    "# del_w = [learnrate * error_term * x[0],\n",
    "#          learnrate * error_term * x[1],\n",
    "#          learnrate * error_term * x[2],\n",
    "#          learnrate * error_term * x[3]]\n",
    "\n",
    "new_weights = w + del_w\n",
    "\n",
    "print('Neural Network output:')\n",
    "print(nn_output)\n",
    "print('Amount of Error:')\n",
    "print(error)\n",
    "print('Change in Weights:')\n",
    "print(del_w)\n",
    "print('new weights')\n",
    "print(new_weights)"
   ]
  },
  {
   "cell_type": "code",
   "execution_count": 4,
   "metadata": {},
   "outputs": [
    {
     "data": {
      "text/plain": [
       "0.7999999999999998"
      ]
     },
     "execution_count": 4,
     "metadata": {},
     "output_type": "execute_result"
    }
   ],
   "source": [
    "np.dot(x,w)"
   ]
  },
  {
   "cell_type": "code",
   "execution_count": 13,
   "metadata": {},
   "outputs": [
    {
     "data": {
      "text/plain": [
       "array([ 0.47968131, -0.54063738,  0.23904392,  0.01872523])"
      ]
     },
     "execution_count": 13,
     "metadata": {},
     "output_type": "execute_result"
    }
   ],
   "source": [
    "w + del_w"
   ]
  },
  {
   "cell_type": "code",
   "execution_count": null,
   "metadata": {},
   "outputs": [],
   "source": []
  }
 ],
 "metadata": {
  "kernelspec": {
   "display_name": "Python 3",
   "language": "python",
   "name": "python3"
  },
  "language_info": {
   "codemirror_mode": {
    "name": "ipython",
    "version": 3
   },
   "file_extension": ".py",
   "mimetype": "text/x-python",
   "name": "python",
   "nbconvert_exporter": "python",
   "pygments_lexer": "ipython3",
   "version": "3.7.4"
  }
 },
 "nbformat": 4,
 "nbformat_minor": 2
}
