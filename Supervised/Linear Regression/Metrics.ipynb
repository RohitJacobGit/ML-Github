{
 "cells": [
  {
   "cell_type": "markdown",
   "metadata": {},
   "source": [
    "- **Decision Trees**: *Regression and Classification*\n",
    "- **Random Forest**: *Regression and Classification*\n",
    "- **Adaptive Boosting(Adaboost)**: *Regression and Classification*\n",
    "- **Logistics Regression**: *Classification*\n",
    "- **Linear Regression**: *Regression*\n",
    "- classification\n",
    "    - precision\n",
    "    - recall\n",
    "    - accuracy\n",
    "    - roc\n",
    "- regression\n",
    "    - R2\n",
    "    - MSE\n",
    "    - MAE"
   ]
  },
  {
   "cell_type": "code",
   "execution_count": 23,
   "metadata": {},
   "outputs": [],
   "source": [
    "from sklearn.model_selection import train_test_split\n",
    "from sklearn.tree import DecisionTreeRegressor\n",
    "from sklearn.linear_model import LinearRegression\n",
    "from sklearn.ensemble import RandomForestRegressor, AdaBoostRegressor\n",
    "from sklearn.metrics import r2_score,mean_squared_error,mean_absolute_error\n",
    "import numpy as np\n",
    "import pandas as pd"
   ]
  },
  {
   "cell_type": "code",
   "execution_count": 28,
   "metadata": {},
   "outputs": [
    {
     "data": {
      "text/html": [
       "<div>\n",
       "<style scoped>\n",
       "    .dataframe tbody tr th:only-of-type {\n",
       "        vertical-align: middle;\n",
       "    }\n",
       "\n",
       "    .dataframe tbody tr th {\n",
       "        vertical-align: top;\n",
       "    }\n",
       "\n",
       "    .dataframe thead th {\n",
       "        text-align: right;\n",
       "    }\n",
       "</style>\n",
       "<table border=\"1\" class=\"dataframe\">\n",
       "  <thead>\n",
       "    <tr style=\"text-align: right;\">\n",
       "      <th></th>\n",
       "      <th>x</th>\n",
       "      <th>y</th>\n",
       "    </tr>\n",
       "  </thead>\n",
       "  <tbody>\n",
       "    <tr>\n",
       "      <td>0</td>\n",
       "      <td>-0.72407</td>\n",
       "      <td>2.23863</td>\n",
       "    </tr>\n",
       "    <tr>\n",
       "      <td>1</td>\n",
       "      <td>-2.40724</td>\n",
       "      <td>-0.00156</td>\n",
       "    </tr>\n",
       "    <tr>\n",
       "      <td>2</td>\n",
       "      <td>2.64837</td>\n",
       "      <td>3.01665</td>\n",
       "    </tr>\n",
       "    <tr>\n",
       "      <td>3</td>\n",
       "      <td>0.36092</td>\n",
       "      <td>2.31019</td>\n",
       "    </tr>\n",
       "    <tr>\n",
       "      <td>4</td>\n",
       "      <td>0.67312</td>\n",
       "      <td>2.05950</td>\n",
       "    </tr>\n",
       "  </tbody>\n",
       "</table>\n",
       "</div>"
      ],
      "text/plain": [
       "         x        y\n",
       "0 -0.72407  2.23863\n",
       "1 -2.40724 -0.00156\n",
       "2  2.64837  3.01665\n",
       "3  0.36092  2.31019\n",
       "4  0.67312  2.05950"
      ]
     },
     "execution_count": 28,
     "metadata": {},
     "output_type": "execute_result"
    }
   ],
   "source": [
    "df_bmi = pd.read_csv('../../Machine Learning/Udacity/Data Files/data.csv',header=None,names=['x','y'])\n",
    "df_bmi.head()"
   ]
  },
  {
   "cell_type": "code",
   "execution_count": 29,
   "metadata": {},
   "outputs": [],
   "source": [
    "X = df_bmi.iloc[:,1].values\n",
    "y = df_bmi.iloc[:,-1].values\n",
    "X_train, X_test, y_train, y_test = train_test_split(X, y, test_size=0.33, random_state=42)"
   ]
  },
  {
   "cell_type": "code",
   "execution_count": 30,
   "metadata": {},
   "outputs": [],
   "source": [
    "dt_model = DecisionTreeRegressor()\n",
    "rf_model = RandomForestRegressor()\n",
    "lr_model = LinearRegression()\n",
    "ada_model = AdaBoostRegressor()"
   ]
  },
  {
   "cell_type": "code",
   "execution_count": 33,
   "metadata": {},
   "outputs": [
    {
     "data": {
      "text/plain": [
       "AdaBoostRegressor(base_estimator=None, learning_rate=1.0, loss='linear',\n",
       "                  n_estimators=50, random_state=None)"
      ]
     },
     "execution_count": 33,
     "metadata": {},
     "output_type": "execute_result"
    }
   ],
   "source": [
    "dt_model.fit(X_train.reshape(-1,1),y_train)\n",
    "rf_model.fit(X_train.reshape(-1,1),y_train)\n",
    "lr_model.fit(X_train.reshape(-1,1),y_train)\n",
    "ada_model.fit(X_train.reshape(-1,1),y_train)"
   ]
  },
  {
   "cell_type": "code",
   "execution_count": 37,
   "metadata": {},
   "outputs": [],
   "source": [
    "dt_pred = dt_model.predict(X_test.reshape(-1,1))\n",
    "rf_pred = rf_model.predict(X_test.reshape(-1,1))\n",
    "lr_pred = lr_model.predict(X_test.reshape(-1,1))\n",
    "ada_pred = ada_model.predict(X_test.reshape(-1,1))"
   ]
  },
  {
   "cell_type": "code",
   "execution_count": 46,
   "metadata": {},
   "outputs": [
    {
     "name": "stdout",
     "output_type": "stream",
     "text": [
      "custom_r2_score : 0.9971959137950417\n",
      "sklearn_r2_score : 0.9971959137950417\n"
     ]
    }
   ],
   "source": [
    "def custom_r2_score(y_test,y_pred):\n",
    "    sse = np.sum((y_test-y_pred)**2)\n",
    "    sst = np.sum((y_test-np.mean(y_test))**2)\n",
    "    return 1-sse/sst\n",
    "\n",
    "print('custom_r2_score : {0}'.format(custom_r2_score(y_test,dt_predictions)))\n",
    "print('sklearn_r2_score : {0}'.format(r2_score(y_test,dt_predictions)))"
   ]
  },
  {
   "cell_type": "code",
   "execution_count": 48,
   "metadata": {},
   "outputs": [
    {
     "name": "stdout",
     "output_type": "stream",
     "text": [
      "custom_mean_squared_error : 0.0013176413151515071\n",
      "sklearn_mean_squared_error : 0.0013176413151515071\n"
     ]
    }
   ],
   "source": [
    "def custom_mse(y_test,y_pred):\n",
    "    return np.sum((y_test-y_pred)**2)/len(y_test)\n",
    "\n",
    "print('custom_mean_squared_error : {0}'.format(custom_mse(y_test,dt_predictions)))\n",
    "print('sklearn_mean_squared_error : {0}'.format(mean_squared_error(y_test,dt_predictions)))"
   ]
  },
  {
   "cell_type": "code",
   "execution_count": 49,
   "metadata": {},
   "outputs": [
    {
     "name": "stdout",
     "output_type": "stream",
     "text": [
      "custom_mean_absolute_error : 0.026464242424242352\n",
      "sklearn_mean_absolute_error : 0.026464242424242352\n"
     ]
    }
   ],
   "source": [
    "def custom_mae(y_test,y_pred):\n",
    "    return np.sum(np.abs(y_test-y_pred))/len(y_test)\n",
    "\n",
    "print('custom_mean_absolute_error : {0}'.format(custom_mae(y_test,dt_predictions)))\n",
    "print('sklearn_mean_absolute_error : {0}'.format(mean_absolute_error(y_test,dt_predictions)))"
   ]
  },
  {
   "cell_type": "code",
   "execution_count": 50,
   "metadata": {},
   "outputs": [
    {
     "name": "stdout",
     "output_type": "stream",
     "text": [
      "Mean Squared Error tree : 0.0013176413151515071\n",
      "Mean Absolute Error tree : 0.026464242424242352\n",
      "R2 Score tree : 0.9971959137950417\n",
      "\n",
      "\n",
      "\n",
      "Mean Squared Error random forest : 0.0012999574347272674\n",
      "Mean Absolute Error random forest : 0.023045333333333317\n",
      "R2 Score random forest : 0.997233547045136\n",
      "\n",
      "\n",
      "\n",
      "Mean Squared Error adaboost : 0.004396715775510089\n",
      "Mean Absolute Error adaboost : 0.05100350745550755\n",
      "R2 Score adaboost : 0.9906433033698454\n",
      "\n",
      "\n",
      "\n",
      "Mean Squared Error linear reg : 2.801352646381434e-32\n",
      "Mean Absolute Error linear reg : 8.410780489584519e-17\n",
      "R2 Score linear reg : 1.0\n",
      "\n",
      "\n",
      "\n"
     ]
    }
   ],
   "source": [
    "def print_metrics(y_true, preds, model_name=None):\n",
    "    \n",
    "    if model_name == None:\n",
    "        print('Mean Squared Error: ', format(mean_squared_error(y_true, preds)))\n",
    "        print('Mean Absolute Error: ', format(mean_absolute_error(y_true, preds)))\n",
    "        print('R2 Score: ', format(r2_score(y_true, preds)))\n",
    "        print('\\n\\n')\n",
    "    \n",
    "    else:\n",
    "        print('Mean Squared Error ' + model_name + ' :' , format(mean_squared_error(y_true, preds)))\n",
    "        print('Mean Absolute Error ' + model_name + ' :', format(mean_absolute_error(y_true, preds)))\n",
    "        print('R2 Score ' + model_name + ' :', format(r2_score(y_true, preds)))\n",
    "        print('\\n\\n')\n",
    "\n",
    "# Print Decision Tree scores\n",
    "print_metrics(y_test, dt_predictions, 'tree')\n",
    "\n",
    "# Print Random Forest scores\n",
    "print_metrics(y_test, rf_predictions, 'random forest')\n",
    "\n",
    "# Print AdaBoost scores\n",
    "print_metrics(y_test, ada_predictions, 'adaboost')\n",
    "\n",
    "# Linear Regression scores\n",
    "print_metrics(y_test, lr_predictions, 'linear reg')"
   ]
  },
  {
   "cell_type": "code",
   "execution_count": null,
   "metadata": {},
   "outputs": [],
   "source": []
  }
 ],
 "metadata": {
  "kernelspec": {
   "display_name": "Python 3",
   "language": "python",
   "name": "python3"
  },
  "language_info": {
   "codemirror_mode": {
    "name": "ipython",
    "version": 3
   },
   "file_extension": ".py",
   "mimetype": "text/x-python",
   "name": "python",
   "nbconvert_exporter": "python",
   "pygments_lexer": "ipython3",
   "version": "3.7.4"
  }
 },
 "nbformat": 4,
 "nbformat_minor": 2
}
